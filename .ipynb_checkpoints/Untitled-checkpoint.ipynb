{
 "cells": [
  {
   "cell_type": "markdown",
   "metadata": {},
   "source": [
    "### Diego Alejandro Reyes Gómez"
   ]
  },
  {
   "cell_type": "code",
   "execution_count": null,
   "metadata": {},
   "outputs": [],
   "source": [
    "import pandas as pd\n",
    "df = pd.read_csv(\"C:/Users/dareyes/Desktop/Maestría/Text Mining y NLP/wikipedia/wikipedia/out20.csv\")\n",
    "from collections import Counter\n",
    "import re"
   ]
  },
  {
   "cell_type": "markdown",
   "metadata": {},
   "source": [
    "#### Se importa el archivo CSV producto de Scrapy"
   ]
  },
  {
   "cell_type": "code",
   "execution_count": 134,
   "metadata": {},
   "outputs": [
    {
     "data": {
      "text/html": [
       "<div>\n",
       "<style scoped>\n",
       "    .dataframe tbody tr th:only-of-type {\n",
       "        vertical-align: middle;\n",
       "    }\n",
       "\n",
       "    .dataframe tbody tr th {\n",
       "        vertical-align: top;\n",
       "    }\n",
       "\n",
       "    .dataframe thead th {\n",
       "        text-align: right;\n",
       "    }\n",
       "</style>\n",
       "<table border=\"1\" class=\"dataframe\">\n",
       "  <thead>\n",
       "    <tr style=\"text-align: right;\">\n",
       "      <th></th>\n",
       "      <th>description</th>\n",
       "      <th>name</th>\n",
       "      <th>url</th>\n",
       "    </tr>\n",
       "  </thead>\n",
       "  <tbody>\n",
       "    <tr>\n",
       "      <th>0</th>\n",
       "      <td>[\"I'm intentionally trying to keep the number ...</td>\n",
       "      <td>Template talk:FApages</td>\n",
       "      <td>https://en.wikipedia.org/wiki/Template_talk:FA...</td>\n",
       "    </tr>\n",
       "    <tr>\n",
       "      <th>1</th>\n",
       "      <td>[Catherine de' Medici's building projects, ' i...</td>\n",
       "      <td>Catherine de' Medici's building projects</td>\n",
       "      <td>https://en.wikipedia.org/wiki/Catherine_de%27_...</td>\n",
       "    </tr>\n",
       "    <tr>\n",
       "      <th>2</th>\n",
       "      <td>['\\n', 'The ', Benty Grange helmet, ' is a boa...</td>\n",
       "      <td>Benty Grange helmet</td>\n",
       "      <td>https://en.wikipedia.org/wiki/Benty_Grange_helmet</td>\n",
       "    </tr>\n",
       "    <tr>\n",
       "      <th>3</th>\n",
       "      <td>['\\n', 7 World Trade Center, ' (', 7 WTC, ') r...</td>\n",
       "      <td>7 World Trade Center</td>\n",
       "      <td>https://en.wikipedia.org/wiki/7_World_Trade_Ce...</td>\n",
       "    </tr>\n",
       "    <tr>\n",
       "      <th>4</th>\n",
       "      <td>['\\n', Belton House, ' is a ', Grade I, ' list...</td>\n",
       "      <td>Belton House</td>\n",
       "      <td>https://en.wikipedia.org/wiki/Belton_House</td>\n",
       "    </tr>\n",
       "  </tbody>\n",
       "</table>\n",
       "</div>"
      ],
      "text/plain": [
       "                                         description  \\\n",
       "0  [\"I'm intentionally trying to keep the number ...   \n",
       "1  [Catherine de' Medici's building projects, ' i...   \n",
       "2  ['\\n', 'The ', Benty Grange helmet, ' is a boa...   \n",
       "3  ['\\n', 7 World Trade Center, ' (', 7 WTC, ') r...   \n",
       "4  ['\\n', Belton House, ' is a ', Grade I, ' list...   \n",
       "\n",
       "                                       name  \\\n",
       "0                     Template talk:FApages   \n",
       "1  Catherine de' Medici's building projects   \n",
       "2                       Benty Grange helmet   \n",
       "3                      7 World Trade Center   \n",
       "4                              Belton House   \n",
       "\n",
       "                                                 url  \n",
       "0  https://en.wikipedia.org/wiki/Template_talk:FA...  \n",
       "1  https://en.wikipedia.org/wiki/Catherine_de%27_...  \n",
       "2  https://en.wikipedia.org/wiki/Benty_Grange_helmet  \n",
       "3  https://en.wikipedia.org/wiki/7_World_Trade_Ce...  \n",
       "4         https://en.wikipedia.org/wiki/Belton_House  "
      ]
     },
     "execution_count": 134,
     "metadata": {},
     "output_type": "execute_result"
    }
   ],
   "source": [
    "df.head()"
   ]
  },
  {
   "cell_type": "markdown",
   "metadata": {},
   "source": [
    "#### Se crea un nuevo data frame donde se utilizará solo el texto del artículo"
   ]
  },
  {
   "cell_type": "code",
   "execution_count": 135,
   "metadata": {},
   "outputs": [
    {
     "data": {
      "text/plain": [
       "0    [\"I'm intentionally trying to keep the number ...\n",
       "1    [Catherine de' Medici's building projects, ' i...\n",
       "2    ['\\n', 'The ', Benty Grange helmet, ' is a boa...\n",
       "3    ['\\n', 7 World Trade Center, ' (', 7 WTC, ') r...\n",
       "4    ['\\n', Belton House, ' is a ', Grade I, ' list...\n",
       "Name: description, dtype: object"
      ]
     },
     "execution_count": 135,
     "metadata": {},
     "output_type": "execute_result"
    }
   ],
   "source": [
    "df2 = df.description.copy()\n",
    "df2.head()"
   ]
  },
  {
   "cell_type": "code",
   "execution_count": 136,
   "metadata": {},
   "outputs": [],
   "source": [
    "lista = list(range(1,251))"
   ]
  },
  {
   "cell_type": "markdown",
   "metadata": {},
   "source": [
    "#### En total se recopilaron 5,000 artículos de la página principal de Wikipeda, pero para efectos de este análisis se tomaron solo 250 ya que son suficientes para llegar al millon de tokens"
   ]
  },
  {
   "cell_type": "code",
   "execution_count": 130,
   "metadata": {},
   "outputs": [
    {
     "name": "stdout",
     "output_type": "stream",
     "text": [
      "     PALABRAS_UNICAS   TOKENS\n",
      "0                  1        0\n",
      "1               1298     4103\n",
      "2               2308     8436\n",
      "3               3174    13128\n",
      "4               3899    17910\n",
      "..               ...      ...\n",
      "238            43532   987737\n",
      "239            43582   989515\n",
      "240            43655   991199\n",
      "241            43805   997377\n",
      "242            43862  1000637\n",
      "\n",
      "[243 rows x 2 columns]\n"
     ]
    },
    {
     "data": {
      "text/plain": [
       "<matplotlib.axes._subplots.AxesSubplot at 0x13b8161c700>"
      ]
     },
     "execution_count": 130,
     "metadata": {},
     "output_type": "execute_result"
    },
    {
     "data": {
      "image/png": "[encoded data removed]",
      "text/plain": [
       "<Figure size 432x288 with 1 Axes>"
      ]
     },
     "metadata": {
      "needs_background": "light"
     },
     "output_type": "display_data"
    }
   ],
   "source": [
    "vocabulario = pd.DataFrame()\n",
    "tokens_totales = []\n",
    "pal_totales = []\n",
    "for i in lista:\n",
    "    df3 = df2[1:i]\n",
    "    df4 = df3.str.cat(sep=' ')\n",
    "    df_lower = df4.lower()\n",
    "    res = len(re.findall(r'\\w+', df_lower)) \n",
    "    tokens = re.split('\\W+',str(df_lower))\n",
    "    conteo = Counter(tokens)\n",
    "    unicas = len(conteo)\n",
    "    totales = res\n",
    "    tokens_totales.append(unicas)\n",
    "    pal_totales.append(totales)\n",
    "    if totales > 1000000:\n",
    "        break\n",
    "#print(tokens_totales)\n",
    "#print(pal_totales)\n",
    "vocabulario['PALABRAS_UNICAS'] = tokens_totales\n",
    "vocabulario['TOKENS']  = pal_totales\n",
    "#print(vocabulario)\n",
    "vocabulario.plot(y ='PALABRAS_UNICAS', x='TOKENS', kind = 'line')    \n"
   ]
  },
  {
   "cell_type": "markdown",
   "metadata": {},
   "source": [
    "#### 242 artículos fueron necesarios para acumular el millon de tokens, el resultado final son 43,862 palabras únicas y 1,000,637 tokens"
   ]
  }
 ],
 "metadata": {
  "kernelspec": {
   "display_name": "Python 3",
   "language": "python",
   "name": "python3"
  },
  "language_info": {
   "codemirror_mode": {
    "name": "ipython",
    "version": 3
   },
   "file_extension": ".py",
   "mimetype": "text/x-python",
   "name": "python",
   "nbconvert_exporter": "python",
   "pygments_lexer": "ipython3",
   "version": "3.8.3"
  }
 },
 "nbformat": 4,
 "nbformat_minor": 4
}
